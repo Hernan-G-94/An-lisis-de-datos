{
  "nbformat": 4,
  "nbformat_minor": 0,
  "metadata": {
    "colab": {
      "provenance": [],
      "authorship_tag": "ABX9TyNdLmtfWMYQ9XwNIflmUC86",
      "include_colab_link": true
    },
    "kernelspec": {
      "name": "python3",
      "display_name": "Python 3"
    },
    "language_info": {
      "name": "python"
    }
  },
  "cells": [
    {
      "cell_type": "markdown",
      "metadata": {
        "id": "view-in-github",
        "colab_type": "text"
      },
      "source": [
        "<a href=\"https://colab.research.google.com/github/Hernan-G-94/An-lisis-de-datos/blob/main/An%C3%A1lisis_de_datos_1.ipynb\" target=\"_parent\"><img src=\"https://colab.research.google.com/assets/colab-badge.svg\" alt=\"Open In Colab\"/></a>"
      ]
    },
    {
      "cell_type": "markdown",
      "source": [
        "#Análisis de datos"
      ],
      "metadata": {
        "id": "jJVWhinH8m8H"
      }
    },
    {
      "cell_type": "markdown",
      "source": [
        "## ETL (Extracción, Transformación y Carga)"
      ],
      "metadata": {
        "id": "lbUiWfNwJ3Mt"
      }
    },
    {
      "cell_type": "markdown",
      "source": [
        "### 1. Extracción (Extract)"
      ],
      "metadata": {
        "id": "Rh8nUu1wM5IE"
      }
    },
    {
      "cell_type": "code",
      "source": [
        "from google.colab import drive\n",
        "import pandas as pd\n",
        "import chardet\n",
        "\n",
        "# Montamos Doogle Drive para acceder al archivo\n",
        "drive.mount('/content/drive', force_remount=True)\n",
        "\n",
        "files_archivo = '/content/drive/MyDrive/Análisis_de_datos/ventas.csv'\n",
        "with open(files_archivo, 'rb') as f:\n",
        "    result = chardet.detect(f.read())\n",
        "\n",
        "try:\n",
        "  df = pd.read_csv(files_archivo, encoding=result['encoding'], sep=';', decimal=',')\n",
        "  print('Extracción de datos exitosa')\n",
        "except FileNotFoundError:\n",
        "  print(f'No se encontró el archivo: {files_archivo}')\n",
        "\n"
      ],
      "metadata": {
        "id": "uzLROSxN8azy"
      },
      "execution_count": 14,
      "outputs": []
    },
    {
      "cell_type": "markdown",
      "source": [
        "### 2. Transformación (transform)"
      ],
      "metadata": {
        "id": "PX1_gzGLYggg"
      }
    },
    {
      "cell_type": "code",
      "source": [
        "# Muestra las primeras 5 filas del Dataframe\n",
        "df.head(10)"
      ],
      "metadata": {
        "id": "XuWnoFMsY2Sp"
      },
      "execution_count": null,
      "outputs": []
    },
    {
      "cell_type": "code",
      "source": [
        "# Resumen de la información del dataFrame\n",
        "# df.info()\n",
        "# Generar estadísticas descriptivas de las columnas numéricas\n",
        "df.describe()"
      ],
      "metadata": {
        "id": "0hZa7-KGfOku"
      },
      "execution_count": null,
      "outputs": []
    },
    {
      "cell_type": "code",
      "source": [
        "# Renombra columnas para facilitar el acceso y evitar caracteres especiales\n",
        "df.rename(columns={\n",
        "    'Tienda': 'tienda',\n",
        "    'Marca': 'marca',\n",
        "    'Tipo': 'tipo',\n",
        "    'Gï¿½nero': 'genero',\n",
        "    'Talla': 'talla',\n",
        "    'Color': 'color',\n",
        "    'Categoria': 'categoria',\n",
        "    'precio de venta': 'precio',\n",
        "    'Fecha': 'fecha',\n",
        "    'Hora': 'hora'\n",
        "}, inplace=True)\n",
        "\n",
        "# Convertí la columna 'precio a numérica\n",
        "df['precio'] = df['precio'].astype(str)\n",
        "df['precio'] = df['precio'].str.replace(',', '.', regex=True).astype(float)\n",
        "\n",
        "# Limpiar y unificar los datos de la columna 'genero'\n",
        "df['genero'] = df['genero'].str.replace('Masculino', 'M', regex=False).str.replace('Femenino', 'F', regex=False).str.replace('Usinex', 'U', regex=False)\n",
        "\n",
        "# Crear una columna de fecha y hora combinada y convertirla al tipo datatime\n",
        "df['fecha_hora'] = pd.to_datetime(df['fecha'] + ' ' + df['hora'], format='%d/%m/%Y %H:%M:%S')\n",
        "\n",
        "# Eliminar las columnas 'fecha y 'hora'\n",
        "df.drop(['fecha', 'hora'], axis=1, inplace=True)\n",
        "\n",
        "print(\"Transformación de datos exitosa\")"
      ],
      "metadata": {
        "id": "0vyZCxYGjZkf",
        "colab": {
          "base_uri": "https://localhost:8080/"
        },
        "outputId": "1dbad194-062f-4785-a799-c1782a57d823"
      },
      "execution_count": 16,
      "outputs": [
        {
          "output_type": "stream",
          "name": "stdout",
          "text": [
            "{'U', 'F', 'M'}\n",
            "Transformación de datos exitosa\n"
          ]
        }
      ]
    },
    {
      "cell_type": "markdown",
      "source": [
        "### 3. Carga (Load)"
      ],
      "metadata": {
        "id": "x1DcXmubI9Rj"
      }
    },
    {
      "cell_type": "code",
      "source": [
        "# Definir la ruta de salida para guardar el nuevo CSV\n",
        "ruta_salida = '/content/drive/MyDrive/Análisis_de_datos/ventas_procesadas.csv'\n",
        "\n",
        "# Guardar el DataFrame en un nuevo archivo CSV\n",
        "df.to_csv(ruta_salida, index=False, sep=',')\n",
        "\n",
        "print(f'Archivo CSV guardado en: {ruta_salida}')"
      ],
      "metadata": {
        "colab": {
          "base_uri": "https://localhost:8080/"
        },
        "id": "b5wgWEH7JOlL",
        "outputId": "470581f4-6e08-47a0-bf1d-84244c1454c7"
      },
      "execution_count": 21,
      "outputs": [
        {
          "output_type": "stream",
          "name": "stdout",
          "text": [
            "Archivo CSV guardado en: /content/drive/MyDrive/Análisis_de_datos/ventas_procesadas.csv\n"
          ]
        }
      ]
    }
  ]
}